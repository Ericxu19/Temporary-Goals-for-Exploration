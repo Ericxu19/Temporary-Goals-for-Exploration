{
 "cells": [
  {
   "cell_type": "code",
   "execution_count": 8,
   "metadata": {},
   "outputs": [
    {
     "ename": "DependencyNotInstalled",
     "evalue": "No module named 'mujoco_py'. (HINT: you need to install mujoco_py, and also perform the setup instructions here: https://github.com/openai/mujoco-py/.)",
     "output_type": "error",
     "traceback": [
      "\u001b[0;31m---------------------------------------------------------------------------\u001b[0m",
      "\u001b[0;31mModuleNotFoundError\u001b[0m                       Traceback (most recent call last)",
      "\u001b[0;32m~/Library/Python/3.8/lib/python/site-packages/gym/envs/robotics/robot_env.py\u001b[0m in \u001b[0;36m<module>\u001b[0;34m\u001b[0m\n\u001b[1;32m      9\u001b[0m \u001b[0;32mtry\u001b[0m\u001b[0;34m:\u001b[0m\u001b[0;34m\u001b[0m\u001b[0;34m\u001b[0m\u001b[0m\n\u001b[0;32m---> 10\u001b[0;31m     \u001b[0;32mimport\u001b[0m \u001b[0mmujoco_py\u001b[0m\u001b[0;34m\u001b[0m\u001b[0;34m\u001b[0m\u001b[0m\n\u001b[0m\u001b[1;32m     11\u001b[0m \u001b[0;32mexcept\u001b[0m \u001b[0mImportError\u001b[0m \u001b[0;32mas\u001b[0m \u001b[0me\u001b[0m\u001b[0;34m:\u001b[0m\u001b[0;34m\u001b[0m\u001b[0;34m\u001b[0m\u001b[0m\n",
      "\u001b[0;31mModuleNotFoundError\u001b[0m: No module named 'mujoco_py'",
      "\nDuring handling of the above exception, another exception occurred:\n",
      "\u001b[0;31mDependencyNotInstalled\u001b[0m                    Traceback (most recent call last)",
      "\u001b[0;32m/var/folders/k_/yll5wg050mn0xdv_pg1l99zm0000gn/T/ipykernel_3801/2027081377.py\u001b[0m in \u001b[0;36m<module>\u001b[0;34m\u001b[0m\n\u001b[1;32m      9\u001b[0m \u001b[0;32mfrom\u001b[0m \u001b[0mmrl\u001b[0m\u001b[0;34m.\u001b[0m\u001b[0mimport_all\u001b[0m \u001b[0;32mimport\u001b[0m \u001b[0;34m*\u001b[0m\u001b[0;34m\u001b[0m\u001b[0;34m\u001b[0m\u001b[0m\n\u001b[1;32m     10\u001b[0m \u001b[0;32mfrom\u001b[0m \u001b[0mmrl\u001b[0m\u001b[0;34m.\u001b[0m\u001b[0mmodules\u001b[0m\u001b[0;34m.\u001b[0m\u001b[0mtrain\u001b[0m \u001b[0;32mimport\u001b[0m \u001b[0mdebug_vectorized_experience\u001b[0m\u001b[0;34m\u001b[0m\u001b[0;34m\u001b[0m\u001b[0m\n\u001b[0;32m---> 11\u001b[0;31m \u001b[0;32mfrom\u001b[0m \u001b[0mexperiments\u001b[0m\u001b[0;34m.\u001b[0m\u001b[0mmega\u001b[0m\u001b[0;34m.\u001b[0m\u001b[0mmake_env\u001b[0m \u001b[0;32mimport\u001b[0m \u001b[0mmake_env\u001b[0m\u001b[0;34m\u001b[0m\u001b[0;34m\u001b[0m\u001b[0m\n\u001b[0m\u001b[1;32m     12\u001b[0m \u001b[0;32mimport\u001b[0m \u001b[0mtime\u001b[0m\u001b[0;34m\u001b[0m\u001b[0;34m\u001b[0m\u001b[0m\n\u001b[1;32m     13\u001b[0m \u001b[0;32mimport\u001b[0m \u001b[0mos\u001b[0m\u001b[0;34m\u001b[0m\u001b[0;34m\u001b[0m\u001b[0m\n",
      "\u001b[0;32m~/sprite-MEGA/experiments/mega/make_env.py\u001b[0m in \u001b[0;36m<module>\u001b[0;34m\u001b[0m\n\u001b[1;32m      1\u001b[0m \u001b[0;32mimport\u001b[0m \u001b[0mgym\u001b[0m\u001b[0;34m,\u001b[0m \u001b[0mnumpy\u001b[0m \u001b[0;32mas\u001b[0m \u001b[0mnp\u001b[0m\u001b[0;34m\u001b[0m\u001b[0;34m\u001b[0m\u001b[0m\n\u001b[1;32m      2\u001b[0m \u001b[0;34m\u001b[0m\u001b[0m\n\u001b[0;32m----> 3\u001b[0;31m \u001b[0;32mfrom\u001b[0m \u001b[0menvs\u001b[0m\u001b[0;34m.\u001b[0m\u001b[0mcustomfetch\u001b[0m\u001b[0;34m.\u001b[0m\u001b[0mcustom_fetch\u001b[0m \u001b[0;32mimport\u001b[0m \u001b[0mPushEnv\u001b[0m\u001b[0;34m,\u001b[0m \u001b[0mSlideEnv\u001b[0m\u001b[0;34m,\u001b[0m \u001b[0mPickPlaceEnv\u001b[0m\u001b[0;34m,\u001b[0m \u001b[0mGoalType\u001b[0m\u001b[0;34m,\u001b[0m \u001b[0mStackEnv\u001b[0m\u001b[0;34m,\u001b[0m \u001b[0mPushLeft\u001b[0m\u001b[0;34m,\u001b[0m \u001b[0mPushRight\u001b[0m\u001b[0;34m,\u001b[0m \u001b[0mSlideNEnv\u001b[0m\u001b[0;34m\u001b[0m\u001b[0;34m\u001b[0m\u001b[0m\n\u001b[0m\u001b[1;32m      4\u001b[0m \u001b[0;32mfrom\u001b[0m \u001b[0menvs\u001b[0m\u001b[0;34m.\u001b[0m\u001b[0mcustomfetch\u001b[0m\u001b[0;34m.\u001b[0m\u001b[0mcustom_hand\u001b[0m \u001b[0;32mimport\u001b[0m \u001b[0mHandBlockEnv\u001b[0m\u001b[0;34m,\u001b[0m \u001b[0mHandPenEnv\u001b[0m\u001b[0;34m,\u001b[0m \u001b[0mHandEggEnv\u001b[0m\u001b[0;34m,\u001b[0m \u001b[0mHandReachFullEnv\u001b[0m\u001b[0;34m\u001b[0m\u001b[0;34m\u001b[0m\u001b[0m\n\u001b[1;32m      5\u001b[0m \u001b[0;32mfrom\u001b[0m \u001b[0menvs\u001b[0m\u001b[0;34m.\u001b[0m\u001b[0mcustomfetch\u001b[0m\u001b[0;34m.\u001b[0m\u001b[0mepsilon_wrapper\u001b[0m \u001b[0;32mimport\u001b[0m \u001b[0mEpsilonWrapper\u001b[0m\u001b[0;34m\u001b[0m\u001b[0;34m\u001b[0m\u001b[0m\n",
      "\u001b[0;32m~/sprite-MEGA/envs/customfetch/custom_fetch.py\u001b[0m in \u001b[0;36m<module>\u001b[0;34m\u001b[0m\n\u001b[1;32m      1\u001b[0m \u001b[0;32mimport\u001b[0m \u001b[0mnumpy\u001b[0m \u001b[0;32mas\u001b[0m \u001b[0mnp\u001b[0m\u001b[0;34m\u001b[0m\u001b[0;34m\u001b[0m\u001b[0m\n\u001b[0;32m----> 2\u001b[0;31m \u001b[0;32mfrom\u001b[0m \u001b[0mgym\u001b[0m\u001b[0;34m.\u001b[0m\u001b[0menvs\u001b[0m\u001b[0;34m.\u001b[0m\u001b[0mrobotics\u001b[0m\u001b[0;34m.\u001b[0m\u001b[0mfetch_env\u001b[0m \u001b[0;32mimport\u001b[0m \u001b[0mFetchEnv\u001b[0m\u001b[0;34m,\u001b[0m \u001b[0mgoal_distance\u001b[0m\u001b[0;34m\u001b[0m\u001b[0;34m\u001b[0m\u001b[0m\n\u001b[0m\u001b[1;32m      3\u001b[0m \u001b[0;32mfrom\u001b[0m \u001b[0mgym\u001b[0m\u001b[0;34m.\u001b[0m\u001b[0menvs\u001b[0m\u001b[0;34m.\u001b[0m\u001b[0mrobotics\u001b[0m\u001b[0;34m.\u001b[0m\u001b[0mfetch\u001b[0m\u001b[0;34m.\u001b[0m\u001b[0mpush\u001b[0m \u001b[0;32mimport\u001b[0m \u001b[0mFetchPushEnv\u001b[0m\u001b[0;34m\u001b[0m\u001b[0;34m\u001b[0m\u001b[0m\n\u001b[1;32m      4\u001b[0m \u001b[0;32mfrom\u001b[0m \u001b[0mgym\u001b[0m\u001b[0;34m.\u001b[0m\u001b[0menvs\u001b[0m\u001b[0;34m.\u001b[0m\u001b[0mrobotics\u001b[0m\u001b[0;34m.\u001b[0m\u001b[0mfetch\u001b[0m\u001b[0;34m.\u001b[0m\u001b[0mslide\u001b[0m \u001b[0;32mimport\u001b[0m \u001b[0mFetchSlideEnv\u001b[0m\u001b[0;34m\u001b[0m\u001b[0;34m\u001b[0m\u001b[0m\n\u001b[1;32m      5\u001b[0m \u001b[0;32mfrom\u001b[0m \u001b[0mgym\u001b[0m\u001b[0;34m.\u001b[0m\u001b[0menvs\u001b[0m\u001b[0;34m.\u001b[0m\u001b[0mrobotics\u001b[0m\u001b[0;34m.\u001b[0m\u001b[0mfetch\u001b[0m\u001b[0;34m.\u001b[0m\u001b[0mpick_and_place\u001b[0m \u001b[0;32mimport\u001b[0m \u001b[0mFetchPickAndPlaceEnv\u001b[0m\u001b[0;34m\u001b[0m\u001b[0;34m\u001b[0m\u001b[0m\n",
      "\u001b[0;32m~/Library/Python/3.8/lib/python/site-packages/gym/envs/robotics/__init__.py\u001b[0m in \u001b[0;36m<module>\u001b[0;34m\u001b[0m\n\u001b[0;32m----> 1\u001b[0;31m \u001b[0;32mfrom\u001b[0m \u001b[0mgym\u001b[0m\u001b[0;34m.\u001b[0m\u001b[0menvs\u001b[0m\u001b[0;34m.\u001b[0m\u001b[0mrobotics\u001b[0m\u001b[0;34m.\u001b[0m\u001b[0mfetch_env\u001b[0m \u001b[0;32mimport\u001b[0m \u001b[0mFetchEnv\u001b[0m\u001b[0;34m\u001b[0m\u001b[0;34m\u001b[0m\u001b[0m\n\u001b[0m\u001b[1;32m      2\u001b[0m \u001b[0;32mfrom\u001b[0m \u001b[0mgym\u001b[0m\u001b[0;34m.\u001b[0m\u001b[0menvs\u001b[0m\u001b[0;34m.\u001b[0m\u001b[0mrobotics\u001b[0m\u001b[0;34m.\u001b[0m\u001b[0mfetch\u001b[0m\u001b[0;34m.\u001b[0m\u001b[0mslide\u001b[0m \u001b[0;32mimport\u001b[0m \u001b[0mFetchSlideEnv\u001b[0m\u001b[0;34m\u001b[0m\u001b[0;34m\u001b[0m\u001b[0m\n\u001b[1;32m      3\u001b[0m \u001b[0;32mfrom\u001b[0m \u001b[0mgym\u001b[0m\u001b[0;34m.\u001b[0m\u001b[0menvs\u001b[0m\u001b[0;34m.\u001b[0m\u001b[0mrobotics\u001b[0m\u001b[0;34m.\u001b[0m\u001b[0mfetch\u001b[0m\u001b[0;34m.\u001b[0m\u001b[0mpick_and_place\u001b[0m \u001b[0;32mimport\u001b[0m \u001b[0mFetchPickAndPlaceEnv\u001b[0m\u001b[0;34m\u001b[0m\u001b[0;34m\u001b[0m\u001b[0m\n\u001b[1;32m      4\u001b[0m \u001b[0;32mfrom\u001b[0m \u001b[0mgym\u001b[0m\u001b[0;34m.\u001b[0m\u001b[0menvs\u001b[0m\u001b[0;34m.\u001b[0m\u001b[0mrobotics\u001b[0m\u001b[0;34m.\u001b[0m\u001b[0mfetch\u001b[0m\u001b[0;34m.\u001b[0m\u001b[0mpush\u001b[0m \u001b[0;32mimport\u001b[0m \u001b[0mFetchPushEnv\u001b[0m\u001b[0;34m\u001b[0m\u001b[0;34m\u001b[0m\u001b[0m\n\u001b[1;32m      5\u001b[0m \u001b[0;32mfrom\u001b[0m \u001b[0mgym\u001b[0m\u001b[0;34m.\u001b[0m\u001b[0menvs\u001b[0m\u001b[0;34m.\u001b[0m\u001b[0mrobotics\u001b[0m\u001b[0;34m.\u001b[0m\u001b[0mfetch\u001b[0m\u001b[0;34m.\u001b[0m\u001b[0mreach\u001b[0m \u001b[0;32mimport\u001b[0m \u001b[0mFetchReachEnv\u001b[0m\u001b[0;34m\u001b[0m\u001b[0;34m\u001b[0m\u001b[0m\n",
      "\u001b[0;32m~/Library/Python/3.8/lib/python/site-packages/gym/envs/robotics/fetch_env.py\u001b[0m in \u001b[0;36m<module>\u001b[0;34m\u001b[0m\n\u001b[1;32m      1\u001b[0m \u001b[0;32mimport\u001b[0m \u001b[0mnumpy\u001b[0m \u001b[0;32mas\u001b[0m \u001b[0mnp\u001b[0m\u001b[0;34m\u001b[0m\u001b[0;34m\u001b[0m\u001b[0m\n\u001b[1;32m      2\u001b[0m \u001b[0;34m\u001b[0m\u001b[0m\n\u001b[0;32m----> 3\u001b[0;31m \u001b[0;32mfrom\u001b[0m \u001b[0mgym\u001b[0m\u001b[0;34m.\u001b[0m\u001b[0menvs\u001b[0m\u001b[0;34m.\u001b[0m\u001b[0mrobotics\u001b[0m \u001b[0;32mimport\u001b[0m \u001b[0mrotations\u001b[0m\u001b[0;34m,\u001b[0m \u001b[0mrobot_env\u001b[0m\u001b[0;34m,\u001b[0m \u001b[0mutils\u001b[0m\u001b[0;34m\u001b[0m\u001b[0;34m\u001b[0m\u001b[0m\n\u001b[0m\u001b[1;32m      4\u001b[0m \u001b[0;34m\u001b[0m\u001b[0m\n\u001b[1;32m      5\u001b[0m \u001b[0;34m\u001b[0m\u001b[0m\n",
      "\u001b[0;32m~/Library/Python/3.8/lib/python/site-packages/gym/envs/robotics/robot_env.py\u001b[0m in \u001b[0;36m<module>\u001b[0;34m\u001b[0m\n\u001b[1;32m     10\u001b[0m     \u001b[0;32mimport\u001b[0m \u001b[0mmujoco_py\u001b[0m\u001b[0;34m\u001b[0m\u001b[0;34m\u001b[0m\u001b[0m\n\u001b[1;32m     11\u001b[0m \u001b[0;32mexcept\u001b[0m \u001b[0mImportError\u001b[0m \u001b[0;32mas\u001b[0m \u001b[0me\u001b[0m\u001b[0;34m:\u001b[0m\u001b[0;34m\u001b[0m\u001b[0;34m\u001b[0m\u001b[0m\n\u001b[0;32m---> 12\u001b[0;31m     raise error.DependencyNotInstalled(\n\u001b[0m\u001b[1;32m     13\u001b[0m         \"{}. (HINT: you need to install mujoco_py, and also perform the setup instructions here: https://github.com/openai/mujoco-py/.)\".format(\n\u001b[1;32m     14\u001b[0m             \u001b[0me\u001b[0m\u001b[0;34m\u001b[0m\u001b[0;34m\u001b[0m\u001b[0m\n",
      "\u001b[0;31mDependencyNotInstalled\u001b[0m: No module named 'mujoco_py'. (HINT: you need to install mujoco_py, and also perform the setup instructions here: https://github.com/openai/mujoco-py/.)"
     ]
    }
   ],
   "source": [
    "#import pandas as pd\n",
    "import numpy as np\n",
    "import matplotlib\n",
    "import matplotlib.pyplot as plt\n",
    "import os, glob\n",
    "import os\n",
    "os.getcwd() \n",
    "\n",
    "from mrl.import_all import *\n",
    "from mrl.modules.train import debug_vectorized_experience\n",
    "from experiments.mega.make_env import make_env\n",
    "import time\n",
    "import os\n",
    "import gym\n",
    "import numpy as np\n",
    "import torch.nn as nn\n",
    "import gym, numpy as np\n",
    "\n",
    "import matplotlib.pyplot as plt\n",
    "import matplotlib.cbook as cbook\n",
    "\n",
    "import numpy as np\n",
    "import pandas as pd\n",
    "\n",
    "from envs.customfetch.custom_fetch import PushEnv, SlideEnv, PickPlaceEnv, GoalType, StackEnv, PushLeft, PushRight, SlideNEnv\n",
    "from envs.customfetch.custom_hand import HandBlockEnv, HandPenEnv, HandEggEnv, HandReachFullEnv\n",
    "from envs.customfetch.epsilon_wrapper import EpsilonWrapper\n",
    "from envs.sibrivalry.toy_maze import PointMaze2D, SimpleMazeEnv\n",
    "from envs.sibrivalry.ant_maze import AntMazeEnv\n",
    "from envs.goalgan.ant_maze import AntMazeEnv as GGAntMaze\n",
    "\n",
    "\n",
    "import envs.spritelu\n",
    "from envs.spritelu.spriteworld.configs.protoge.moat import make_moat_env \n",
    "from envs.spritelu.spriteworld.configs.protoge.goal_general import make_sprite_placement_env\n"
   ]
  },
  {
   "cell_type": "code",
   "execution_count": null,
   "metadata": {},
   "outputs": [],
   "source": [
    "base_path = \"/home/eric/fixrawp1agproto_env-sprite_alg-DDPG_herrfaab_1_4_3_1_1_layer-(512, 512, 512)_seed111_tb-MEGA_ag_cu-minkde_eexpl0.1_first-True_dg_sc1.0_alpha--1.0\"\n"
   ]
  },
  {
   "cell_type": "code",
   "execution_count": 16,
   "metadata": {},
   "outputs": [
    {
     "ename": "NameError",
     "evalue": "name 'base_path' is not defined",
     "output_type": "error",
     "traceback": [
      "\u001b[0;31m---------------------------------------------------------------------------\u001b[0m",
      "\u001b[0;31mNameError\u001b[0m                                 Traceback (most recent call last)",
      "\u001b[0;32m/var/folders/k_/yll5wg050mn0xdv_pg1l99zm0000gn/T/ipykernel_18702/800613348.py\u001b[0m in \u001b[0;36m<module>\u001b[0;34m\u001b[0m\n\u001b[0;32m----> 1\u001b[0;31m \u001b[0mtimestep_list\u001b[0m \u001b[0;34m=\u001b[0m \u001b[0;34m[\u001b[0m\u001b[0mfolder\u001b[0m \u001b[0;32mfor\u001b[0m \u001b[0mfolder\u001b[0m \u001b[0;32min\u001b[0m \u001b[0mos\u001b[0m\u001b[0;34m.\u001b[0m\u001b[0mlistdir\u001b[0m\u001b[0;34m(\u001b[0m\u001b[0mbase_path\u001b[0m\u001b[0;34m)\u001b[0m \u001b[0;32mif\u001b[0m \u001b[0mfolder\u001b[0m\u001b[0;34m.\u001b[0m\u001b[0misdigit\u001b[0m\u001b[0;34m(\u001b[0m\u001b[0;34m)\u001b[0m\u001b[0;34m]\u001b[0m\u001b[0;34m\u001b[0m\u001b[0;34m\u001b[0m\u001b[0m\n\u001b[0m\u001b[1;32m      2\u001b[0m \u001b[0;34m\u001b[0m\u001b[0m\n\u001b[1;32m      3\u001b[0m \u001b[0mtimestep_list\u001b[0m\u001b[0;34m.\u001b[0m\u001b[0msort\u001b[0m\u001b[0;34m(\u001b[0m\u001b[0mkey\u001b[0m\u001b[0;34m=\u001b[0m\u001b[0mfloat\u001b[0m\u001b[0;34m)\u001b[0m\u001b[0;34m\u001b[0m\u001b[0;34m\u001b[0m\u001b[0m\n\u001b[1;32m      4\u001b[0m \u001b[0mtimestep_list\u001b[0m\u001b[0;34m\u001b[0m\u001b[0;34m\u001b[0m\u001b[0m\n",
      "\u001b[0;31mNameError\u001b[0m: name 'base_path' is not defined"
     ]
    }
   ],
   "source": [
    "timestep_list = [folder for folder in os.listdir(base_path) if folder.isdigit()]\n",
    "\n",
    "timestep_list.sort(key=float)\n",
    "timestep_list"
   ]
  },
  {
   "cell_type": "code",
   "execution_count": 17,
   "metadata": {},
   "outputs": [
    {
     "ename": "NameError",
     "evalue": "name 'timestep_list' is not defined",
     "output_type": "error",
     "traceback": [
      "\u001b[0;31m---------------------------------------------------------------------------\u001b[0m",
      "\u001b[0;31mNameError\u001b[0m                                 Traceback (most recent call last)",
      "\u001b[0;32m/var/folders/k_/yll5wg050mn0xdv_pg1l99zm0000gn/T/ipykernel_18702/3584928624.py\u001b[0m in \u001b[0;36m<module>\u001b[0;34m\u001b[0m\n\u001b[0;32m----> 1\u001b[0;31m \u001b[0;32mfor\u001b[0m \u001b[0mi\u001b[0m \u001b[0;32min\u001b[0m \u001b[0mtimestep_list\u001b[0m\u001b[0;34m:\u001b[0m\u001b[0;34m\u001b[0m\u001b[0;34m\u001b[0m\u001b[0m\n\u001b[0m\u001b[1;32m      2\u001b[0m     \u001b[0mfig\u001b[0m\u001b[0;34m,\u001b[0m \u001b[0maxs\u001b[0m \u001b[0;34m=\u001b[0m \u001b[0mplt\u001b[0m\u001b[0;34m.\u001b[0m\u001b[0msubplots\u001b[0m\u001b[0;34m(\u001b[0m\u001b[0;36m1\u001b[0m\u001b[0;34m,\u001b[0m \u001b[0;36m2\u001b[0m\u001b[0;34m)\u001b[0m\u001b[0;34m\u001b[0m\u001b[0;34m\u001b[0m\u001b[0m\n\u001b[1;32m      3\u001b[0m     \u001b[0mfig\u001b[0m\u001b[0;34m.\u001b[0m\u001b[0mset_figwidth\u001b[0m\u001b[0;34m(\u001b[0m\u001b[0;36m10\u001b[0m\u001b[0;34m)\u001b[0m\u001b[0;34m\u001b[0m\u001b[0;34m\u001b[0m\u001b[0m\n\u001b[1;32m      4\u001b[0m     \u001b[0mplt\u001b[0m\u001b[0;34m.\u001b[0m\u001b[0mxlim\u001b[0m\u001b[0;34m(\u001b[0m\u001b[0;36m0\u001b[0m\u001b[0;34m,\u001b[0m\u001b[0;36m1\u001b[0m\u001b[0;34m)\u001b[0m\u001b[0;34m\u001b[0m\u001b[0;34m\u001b[0m\u001b[0m\n\u001b[1;32m      5\u001b[0m     \u001b[0mplt\u001b[0m\u001b[0;34m.\u001b[0m\u001b[0mylim\u001b[0m\u001b[0;34m(\u001b[0m\u001b[0;36m0\u001b[0m\u001b[0;34m,\u001b[0m\u001b[0;36m1\u001b[0m\u001b[0;34m)\u001b[0m\u001b[0;34m\u001b[0m\u001b[0;34m\u001b[0m\u001b[0m\n",
      "\u001b[0;31mNameError\u001b[0m: name 'timestep_list' is not defined"
     ]
    }
   ],
   "source": [
    "\n",
    "for i in timestep_list:\n",
    "    fig, axs = plt.subplots(1, 2)\n",
    "    fig.set_figwidth(10)\n",
    "    plt.xlim(0,1)\n",
    "    plt.ylim(0,1)\n",
    "    with cbook.get_sample_data(base_path + '/' + i+ '/last_bgs/tensors.tsv') as file:\n",
    "        array = np.loadtxt(file)\n",
    "        \n",
    "        axs[0].scatter(array[:,0],array[:,1])\n",
    "        axs[0].scatter(array[:,2],array[:,3])\n",
    "    with cbook.get_sample_data(base_path + '/' + i+ '/last_ags/tensors.tsv') as file:\n",
    "        array = np.loadtxt(file)\n",
    "        axs[1].scatter(array[:,0],array[:,1], alpha=0.9)\n",
    "        axs[1].scatter(array[:,2],array[:,3], alpha=0.1)\n",
    "    print(i)\n",
    "    plt.show()\n",
    "    "
   ]
  },
  {
   "cell_type": "code",
   "execution_count": 737,
   "metadata": {},
   "outputs": [],
   "source": [
    "ibase_path = \"/tmp/test_mega/proto_env-sprite_alg-DDPG_herrfaab_1_4_3_1_1_layer-(512, 512, 512)_seed111_tb-p20.12MEGA_ag_cu-minkde_eexpl0.1_first-True_dg_sc1.0_alpha--1.0\"\n"
   ]
  },
  {
   "cell_type": "code",
   "execution_count": 738,
   "metadata": {},
   "outputs": [],
   "source": [
    "timestep_list = [folder for folder in os.listdir(ibase_path) if folder.isdigit()]\n",
    "timestep_list.sort(key=float)\n"
   ]
  },
  {
   "cell_type": "code",
   "execution_count": 739,
   "metadata": {
    "collapsed": true
   },
   "outputs": [
    {
     "name": "stdout",
     "output_type": "stream",
     "text": [
      "04998\n"
     ]
    },
    {
     "data": {
      "image/png": "[encoded data removed]",
      "text/plain": [
       "<Figure size 1080x288 with 3 Axes>"
      ]
     },
     "metadata": {
      "needs_background": "light"
     },
     "output_type": "display_data"
    },
    {
     "name": "stdout",
     "output_type": "stream",
     "text": [
      "09996\n"
     ]
    },
    {
     "data": {
      "image/png": "[encoded data removed]",
      "text/plain": [
       "<Figure size 1080x288 with 3 Axes>"
      ]
     },
     "metadata": {
      "needs_background": "light"
     },
     "output_type": "display_data"
    },
    {
     "name": "stdout",
     "output_type": "stream",
     "text": [
      "14994\n"
     ]
    },
    {
     "data": {
      "image/png": "[encoded data removed]",
      "text/plain": [
       "<Figure size 1080x288 with 3 Axes>"
      ]
     },
     "metadata": {
      "needs_background": "light"
     },
     "output_type": "display_data"
    },
    {
     "name": "stdout",
     "output_type": "stream",
     "text": [
      "19992\n"
     ]
    },
    {
     "data": {
      "image/png": "[encoded data removed]",
      "text/plain": [
       "<Figure size 1080x288 with 3 Axes>"
      ]
     },
     "metadata": {
      "needs_background": "light"
     },
     "output_type": "display_data"
    },
    {
     "name": "stdout",
     "output_type": "stream",
     "text": [
      "24990\n"
     ]
    },
    {
     "data": {
      "image/png": "[encoded data removed]",
      "text/plain": [
       "<Figure size 1080x288 with 3 Axes>"
      ]
     },
     "metadata": {
      "needs_background": "light"
     },
     "output_type": "display_data"
    }
   ],
   "source": [
    "\n",
    "\n",
    "for i in timestep_list:\n",
    "    fig, axs = plt.subplots(1, 3)\n",
    "    fig.set_figwidth(15)\n",
    "    axs[0].set_xlim(0,1)\n",
    "    axs[0].set_ylim(0,1)\n",
    "    axs[1].set_xlim(0,1)\n",
    "    axs[1].set_ylim(0,1)\n",
    "    axs[2].set_xlim(0,1)\n",
    "    axs[2].set_ylim(0,1)\n",
    "    \n",
    "    with cbook.get_sample_data(ibase_path + '/' + i+ '/last_bgs/tensors.tsv') as file:\n",
    "        array = np.loadtxt(file)\n",
    "        \n",
    "        axs[0].scatter(array[:,0],array[:,1],alpha=0.5)\n",
    "        axs[0].scatter(array[:,2],array[:,3],alpha=0.5)\n",
    "    with cbook.get_sample_data(ibase_path + '/' + i+ '/last_ags/tensors.tsv') as file:\n",
    "        array = np.loadtxt(file)\n",
    "        axs[1].scatter(array[:,0],array[:,1], alpha=0.5)\n",
    "        axs[1].scatter(array[:,2],array[:,3], alpha=0.1)\n",
    "        \n",
    "\n",
    "    with cbook.get_sample_data(ibase_path + '/' + i+ '/rand_ags/tensors.tsv') as file:\n",
    "        array = np.loadtxt(file)\n",
    "        axs[2].scatter(array[:,0],array[:,2], alpha=0.5, s=2)\n",
    "        axs[2].scatter(array[:,1],array[:,3], alpha=0.5, s=2)\n",
    "     \n",
    "    print(i)\n",
    "    plt.show()"
   ]
  },
  {
   "cell_type": "code",
   "execution_count": 1016,
   "metadata": {},
   "outputs": [],
   "source": [
    "bbase_path = \"/tmp/test_mega/proto_env-sprite_alg-DDPG_herrfaab_1_4_3_1_1_layer-(512, 512, 512)_seed111_tb-rfst2M100_ag_cu-minkde_eexpl0.1_first-True_dg_sc1.0_alpha--1.0\"\n",
    "\n"
   ]
  },
  {
   "cell_type": "code",
   "execution_count": 1017,
   "metadata": {},
   "outputs": [],
   "source": [
    "timestep_list = [folder for folder in os.listdir(bbase_path) if folder.isdigit()]\n",
    "timestep_list.sort(key=float)\n"
   ]
  },
  {
   "cell_type": "code",
   "execution_count": 18,
   "metadata": {},
   "outputs": [
    {
     "ename": "NameError",
     "evalue": "name 'timestep_list' is not defined",
     "output_type": "error",
     "traceback": [
      "\u001b[0;31m---------------------------------------------------------------------------\u001b[0m",
      "\u001b[0;31mNameError\u001b[0m                                 Traceback (most recent call last)",
      "\u001b[0;32m/var/folders/k_/yll5wg050mn0xdv_pg1l99zm0000gn/T/ipykernel_18702/3464477076.py\u001b[0m in \u001b[0;36m<module>\u001b[0;34m\u001b[0m\n\u001b[0;32m----> 1\u001b[0;31m \u001b[0;32mfor\u001b[0m \u001b[0mi\u001b[0m \u001b[0;32min\u001b[0m \u001b[0mtimestep_list\u001b[0m\u001b[0;34m:\u001b[0m\u001b[0;34m\u001b[0m\u001b[0;34m\u001b[0m\u001b[0m\n\u001b[0m\u001b[1;32m      2\u001b[0m     \u001b[0mfig\u001b[0m\u001b[0;34m,\u001b[0m \u001b[0maxs\u001b[0m \u001b[0;34m=\u001b[0m \u001b[0mplt\u001b[0m\u001b[0;34m.\u001b[0m\u001b[0msubplots\u001b[0m\u001b[0;34m(\u001b[0m\u001b[0;36m1\u001b[0m\u001b[0;34m,\u001b[0m \u001b[0;36m3\u001b[0m\u001b[0;34m)\u001b[0m\u001b[0;34m\u001b[0m\u001b[0;34m\u001b[0m\u001b[0m\n\u001b[1;32m      3\u001b[0m     \u001b[0mfig\u001b[0m\u001b[0;34m.\u001b[0m\u001b[0mset_figwidth\u001b[0m\u001b[0;34m(\u001b[0m\u001b[0;36m15\u001b[0m\u001b[0;34m)\u001b[0m\u001b[0;34m\u001b[0m\u001b[0;34m\u001b[0m\u001b[0m\n\u001b[1;32m      4\u001b[0m     \u001b[0maxs\u001b[0m\u001b[0;34m[\u001b[0m\u001b[0;36m0\u001b[0m\u001b[0;34m]\u001b[0m\u001b[0;34m.\u001b[0m\u001b[0mset_xlim\u001b[0m\u001b[0;34m(\u001b[0m\u001b[0;36m0\u001b[0m\u001b[0;34m,\u001b[0m\u001b[0;36m1\u001b[0m\u001b[0;34m)\u001b[0m\u001b[0;34m\u001b[0m\u001b[0;34m\u001b[0m\u001b[0m\n\u001b[1;32m      5\u001b[0m     \u001b[0maxs\u001b[0m\u001b[0;34m[\u001b[0m\u001b[0;36m0\u001b[0m\u001b[0;34m]\u001b[0m\u001b[0;34m.\u001b[0m\u001b[0mset_ylim\u001b[0m\u001b[0;34m(\u001b[0m\u001b[0;36m0\u001b[0m\u001b[0;34m,\u001b[0m\u001b[0;36m1\u001b[0m\u001b[0;34m)\u001b[0m\u001b[0;34m\u001b[0m\u001b[0;34m\u001b[0m\u001b[0m\n",
      "\u001b[0;31mNameError\u001b[0m: name 'timestep_list' is not defined"
     ]
    }
   ],
   "source": [
    "\n",
    "for i in timestep_list:\n",
    "    fig, axs = plt.subplots(1, 3)\n",
    "    fig.set_figwidth(15)\n",
    "    axs[0].set_xlim(0,1)\n",
    "    axs[0].set_ylim(0,1)\n",
    "    axs[1].set_xlim(0,1)\n",
    "    axs[1].set_ylim(0,1)\n",
    "    axs[2].set_xlim(0,1)\n",
    "    axs[2].set_ylim(0,1)\n",
    "    with cbook.get_sample_data(bbase_path + '/' + i+ '/last_bgs/tensors.tsv') as file:\n",
    "        array = np.loadtxt(file)\n",
    "        \n",
    "        axs[0].scatter(array[:,0],array[:,1])\n",
    "        axs[0].scatter(array[:,2],array[:,3])\n",
    "    with cbook.get_sample_data(bbase_path + '/' + i+ '/last_ags/tensors.tsv') as file:\n",
    "        array = np.loadtxt(file)\n",
    "        axs[1].scatter(array[:,0],array[:,1], alpha=0.5, s= 5)\n",
    "        axs[1].scatter(array[:,2],array[:,3], alpha=0.5, s= 5)\n",
    "    with cbook.get_sample_data(bbase_path + '/' + i+ '/rand_ags/tensors.tsv') as file:\n",
    "        array = np.loadtxt(file)\n",
    "        axs[2].scatter(array[:,0],array[:,1], alpha=0.5, s=5)\n",
    "        axs[2].scatter(array[:,2],array[:,3], alpha=0.5, s=5)\n",
    "    print(i)\n",
    "    plt.show()\n",
    "    "
   ]
  },
  {
   "cell_type": "code",
   "execution_count": 1010,
   "metadata": {},
   "outputs": [],
   "source": [
    "cbase_path = \"/tmp/test_mega/proto_env-sprite_alg-DDPG_herrfaab_1_4_3_1_1_layer-(512, 512, 512)_seed111_tb-oldM_ag_cu-minkde_eexpl0.1_first-True_dg_sc1.0_alpha--1.0\"\n"
   ]
  },
  {
   "cell_type": "code",
   "execution_count": 1011,
   "metadata": {},
   "outputs": [],
   "source": [
    "timestep_list = [folder for folder in os.listdir(cbase_path) if folder.isdigit()]\n",
    "timestep_list.sort(key=float)\n"
   ]
  },
  {
   "cell_type": "code",
   "execution_count": 19,
   "metadata": {},
   "outputs": [
    {
     "ename": "NameError",
     "evalue": "name 'timestep_list' is not defined",
     "output_type": "error",
     "traceback": [
      "\u001b[0;31m---------------------------------------------------------------------------\u001b[0m",
      "\u001b[0;31mNameError\u001b[0m                                 Traceback (most recent call last)",
      "\u001b[0;32m/var/folders/k_/yll5wg050mn0xdv_pg1l99zm0000gn/T/ipykernel_18702/2367549879.py\u001b[0m in \u001b[0;36m<module>\u001b[0;34m\u001b[0m\n\u001b[0;32m----> 1\u001b[0;31m \u001b[0;32mfor\u001b[0m \u001b[0mi\u001b[0m \u001b[0;32min\u001b[0m \u001b[0mtimestep_list\u001b[0m\u001b[0;34m:\u001b[0m\u001b[0;34m\u001b[0m\u001b[0;34m\u001b[0m\u001b[0m\n\u001b[0m\u001b[1;32m      2\u001b[0m     \u001b[0mfig\u001b[0m\u001b[0;34m,\u001b[0m \u001b[0maxs\u001b[0m \u001b[0;34m=\u001b[0m \u001b[0mplt\u001b[0m\u001b[0;34m.\u001b[0m\u001b[0msubplots\u001b[0m\u001b[0;34m(\u001b[0m\u001b[0;36m1\u001b[0m\u001b[0;34m,\u001b[0m \u001b[0;36m3\u001b[0m\u001b[0;34m)\u001b[0m\u001b[0;34m\u001b[0m\u001b[0;34m\u001b[0m\u001b[0m\n\u001b[1;32m      3\u001b[0m     \u001b[0mfig\u001b[0m\u001b[0;34m.\u001b[0m\u001b[0mset_figwidth\u001b[0m\u001b[0;34m(\u001b[0m\u001b[0;36m15\u001b[0m\u001b[0;34m)\u001b[0m\u001b[0;34m\u001b[0m\u001b[0;34m\u001b[0m\u001b[0m\n\u001b[1;32m      4\u001b[0m     \u001b[0maxs\u001b[0m\u001b[0;34m[\u001b[0m\u001b[0;36m0\u001b[0m\u001b[0;34m]\u001b[0m\u001b[0;34m.\u001b[0m\u001b[0mset_xlim\u001b[0m\u001b[0;34m(\u001b[0m\u001b[0;36m0\u001b[0m\u001b[0;34m,\u001b[0m\u001b[0;36m1\u001b[0m\u001b[0;34m)\u001b[0m\u001b[0;34m\u001b[0m\u001b[0;34m\u001b[0m\u001b[0m\n\u001b[1;32m      5\u001b[0m     \u001b[0maxs\u001b[0m\u001b[0;34m[\u001b[0m\u001b[0;36m0\u001b[0m\u001b[0;34m]\u001b[0m\u001b[0;34m.\u001b[0m\u001b[0mset_ylim\u001b[0m\u001b[0;34m(\u001b[0m\u001b[0;36m0\u001b[0m\u001b[0;34m,\u001b[0m\u001b[0;36m1\u001b[0m\u001b[0;34m)\u001b[0m\u001b[0;34m\u001b[0m\u001b[0;34m\u001b[0m\u001b[0m\n",
      "\u001b[0;31mNameError\u001b[0m: name 'timestep_list' is not defined"
     ]
    }
   ],
   "source": [
    "\n",
    "for i in timestep_list:\n",
    "    fig, axs = plt.subplots(1, 3)\n",
    "    fig.set_figwidth(15)\n",
    "    axs[0].set_xlim(0,1)\n",
    "    axs[0].set_ylim(0,1)\n",
    "    axs[1].set_xlim(0,1)\n",
    "    axs[1].set_ylim(0,1)\n",
    "    axs[2].set_xlim(0,1)\n",
    "    axs[2].set_ylim(0,1)\n",
    "    \n",
    "    with cbook.get_sample_data(cbase_path + '/' + i+ '/last_bgs/tensors.tsv') as file:\n",
    "        array = np.loadtxt(file)\n",
    "        \n",
    "        axs[0].scatter(array[:,0],array[:,1],alpha=0.5)\n",
    "        axs[0].scatter(array[:,2],array[:,3],alpha=0.5)\n",
    "    with cbook.get_sample_data(cbase_path + '/' + i+ '/last_ags/tensors.tsv') as file:\n",
    "        array = np.loadtxt(file)\n",
    "        axs[1].scatter(array[:,0],array[:,1], alpha=0.5, s= 5)\n",
    "        axs[1].scatter(array[:,2],array[:,3], alpha=0.5, s= 5)\n",
    "        \n",
    "\n",
    "    with cbook.get_sample_data(cbase_path + '/' + i+ '/rand_ags/tensors.tsv') as file:\n",
    "        array = np.loadtxt(file)\n",
    "        axs[2].scatter(array[:,0],array[:,1], alpha=0.5, s=5)\n",
    "        axs[2].scatter(array[:,2],array[:,3], alpha=0.5, s=5)\n",
    "     \n",
    "    print(i)\n",
    "    plt.show()"
   ]
  },
  {
   "cell_type": "code",
   "execution_count": 1025,
   "metadata": {},
   "outputs": [],
   "source": [
    "dbase_path = \"/tmp/test_mega/proto_env-sprite_alg-DDPG_herrfaab_1_4_3_1_1_layer-(512, 512, 512)_seed111_tb-Ms500_ag_cu-minkde_eexpl0.1_first-True_dg_sc1.0_alpha--1.0\"\n"
   ]
  },
  {
   "cell_type": "code",
   "execution_count": 1026,
   "metadata": {},
   "outputs": [],
   "source": [
    "timestep_list = [folder for folder in os.listdir(dbase_path) if folder.isdigit()]\n",
    "timestep_list.sort(key=float)\n"
   ]
  },
  {
   "cell_type": "code",
   "execution_count": 20,
   "metadata": {},
   "outputs": [
    {
     "ename": "NameError",
     "evalue": "name 'timestep_list' is not defined",
     "output_type": "error",
     "traceback": [
      "\u001b[0;31m---------------------------------------------------------------------------\u001b[0m",
      "\u001b[0;31mNameError\u001b[0m                                 Traceback (most recent call last)",
      "\u001b[0;32m/var/folders/k_/yll5wg050mn0xdv_pg1l99zm0000gn/T/ipykernel_18702/2953373323.py\u001b[0m in \u001b[0;36m<module>\u001b[0;34m\u001b[0m\n\u001b[0;32m----> 1\u001b[0;31m \u001b[0;32mfor\u001b[0m \u001b[0mi\u001b[0m \u001b[0;32min\u001b[0m \u001b[0mtimestep_list\u001b[0m\u001b[0;34m:\u001b[0m\u001b[0;34m\u001b[0m\u001b[0;34m\u001b[0m\u001b[0m\n\u001b[0m\u001b[1;32m      2\u001b[0m     \u001b[0mfig\u001b[0m\u001b[0;34m,\u001b[0m \u001b[0maxs\u001b[0m \u001b[0;34m=\u001b[0m \u001b[0mplt\u001b[0m\u001b[0;34m.\u001b[0m\u001b[0msubplots\u001b[0m\u001b[0;34m(\u001b[0m\u001b[0;36m1\u001b[0m\u001b[0;34m,\u001b[0m \u001b[0;36m3\u001b[0m\u001b[0;34m)\u001b[0m\u001b[0;34m\u001b[0m\u001b[0;34m\u001b[0m\u001b[0m\n\u001b[1;32m      3\u001b[0m     \u001b[0mfig\u001b[0m\u001b[0;34m.\u001b[0m\u001b[0mset_figwidth\u001b[0m\u001b[0;34m(\u001b[0m\u001b[0;36m15\u001b[0m\u001b[0;34m)\u001b[0m\u001b[0;34m\u001b[0m\u001b[0;34m\u001b[0m\u001b[0m\n\u001b[1;32m      4\u001b[0m     \u001b[0maxs\u001b[0m\u001b[0;34m[\u001b[0m\u001b[0;36m0\u001b[0m\u001b[0;34m]\u001b[0m\u001b[0;34m.\u001b[0m\u001b[0mset_xlim\u001b[0m\u001b[0;34m(\u001b[0m\u001b[0;36m0\u001b[0m\u001b[0;34m,\u001b[0m\u001b[0;36m1\u001b[0m\u001b[0;34m)\u001b[0m\u001b[0;34m\u001b[0m\u001b[0;34m\u001b[0m\u001b[0m\n\u001b[1;32m      5\u001b[0m     \u001b[0maxs\u001b[0m\u001b[0;34m[\u001b[0m\u001b[0;36m0\u001b[0m\u001b[0;34m]\u001b[0m\u001b[0;34m.\u001b[0m\u001b[0mset_ylim\u001b[0m\u001b[0;34m(\u001b[0m\u001b[0;36m0\u001b[0m\u001b[0;34m,\u001b[0m\u001b[0;36m1\u001b[0m\u001b[0;34m)\u001b[0m\u001b[0;34m\u001b[0m\u001b[0;34m\u001b[0m\u001b[0m\n",
      "\u001b[0;31mNameError\u001b[0m: name 'timestep_list' is not defined"
     ]
    }
   ],
   "source": [
    "for i in timestep_list:\n",
    "    fig, axs = plt.subplots(1, 3)\n",
    "    fig.set_figwidth(15)\n",
    "    axs[0].set_xlim(0,1)\n",
    "    axs[0].set_ylim(0,1)\n",
    "    axs[1].set_xlim(0,1)\n",
    "    axs[1].set_ylim(0,1)\n",
    "    axs[2].set_xlim(0,1)\n",
    "    axs[2].set_ylim(0,1)\n",
    "    \n",
    "    with cbook.get_sample_data(dbase_path + '/' + i+ '/last_bgs/tensors.tsv') as file:\n",
    "        array = np.loadtxt(file)\n",
    "        \n",
    "        axs[0].scatter(array[:,0],array[:,1])\n",
    "        axs[0].scatter(array[:,2],array[:,3])\n",
    "    with cbook.get_sample_data(dbase_path + '/' + i+ '/last_ags/tensors.tsv') as file:\n",
    "        array = np.loadtxt(file)\n",
    "        axs[1].scatter(array[:,0],array[:,1], alpha=0.5, s= 5)\n",
    "        axs[1].scatter(array[:,2],array[:,3], alpha=0.5, s= 5)\n",
    "        \n",
    "\n",
    "    with cbook.get_sample_data(dbase_path + '/' + i+ '/rand_ags/tensors.tsv') as file:\n",
    "        array = np.loadtxt(file)\n",
    "        axs[2].scatter(array[:,0],array[:,1], alpha=0.5, s= 5)\n",
    "        axs[2].scatter(array[:,2],array[:,3], alpha=0.5, s= 5)\n",
    "\n",
    "\n",
    "    print(i)\n",
    "    plt.show()"
   ]
  },
  {
   "cell_type": "code",
   "execution_count": 21,
   "metadata": {},
   "outputs": [
    {
     "ename": "FileNotFoundError",
     "evalue": "[Errno 2] No such file or directory: '/tmp/test_mega/proto_env-sprite_alg-DDPG_herrfaab_1_4_3_1_1_layer-(512, 512, 512)_seed111_tb-p3M400st10_ag_cu-minkde_eexpl0.1_first-True_dg_sc1.0_alpha--1.0'",
     "output_type": "error",
     "traceback": [
      "\u001b[0;31m---------------------------------------------------------------------------\u001b[0m",
      "\u001b[0;31mFileNotFoundError\u001b[0m                         Traceback (most recent call last)",
      "\u001b[0;32m/var/folders/k_/yll5wg050mn0xdv_pg1l99zm0000gn/T/ipykernel_18702/1433742153.py\u001b[0m in \u001b[0;36m<module>\u001b[0;34m\u001b[0m\n\u001b[1;32m      1\u001b[0m \u001b[0mebase_path\u001b[0m \u001b[0;34m=\u001b[0m \u001b[0;34m\"/tmp/test_mega/proto_env-sprite_alg-DDPG_herrfaab_1_4_3_1_1_layer-(512, 512, 512)_seed111_tb-p3M400st10_ag_cu-minkde_eexpl0.1_first-True_dg_sc1.0_alpha--1.0\"\u001b[0m\u001b[0;34m\u001b[0m\u001b[0;34m\u001b[0m\u001b[0m\n\u001b[0;32m----> 2\u001b[0;31m \u001b[0mtimestep_list\u001b[0m \u001b[0;34m=\u001b[0m \u001b[0;34m[\u001b[0m\u001b[0mfolder\u001b[0m \u001b[0;32mfor\u001b[0m \u001b[0mfolder\u001b[0m \u001b[0;32min\u001b[0m \u001b[0mos\u001b[0m\u001b[0;34m.\u001b[0m\u001b[0mlistdir\u001b[0m\u001b[0;34m(\u001b[0m\u001b[0mebase_path\u001b[0m\u001b[0;34m)\u001b[0m \u001b[0;32mif\u001b[0m \u001b[0mfolder\u001b[0m\u001b[0;34m.\u001b[0m\u001b[0misdigit\u001b[0m\u001b[0;34m(\u001b[0m\u001b[0;34m)\u001b[0m\u001b[0;34m]\u001b[0m\u001b[0;34m\u001b[0m\u001b[0;34m\u001b[0m\u001b[0m\n\u001b[0m\u001b[1;32m      3\u001b[0m \u001b[0mtimestep_list\u001b[0m\u001b[0;34m.\u001b[0m\u001b[0msort\u001b[0m\u001b[0;34m(\u001b[0m\u001b[0mkey\u001b[0m\u001b[0;34m=\u001b[0m\u001b[0mfloat\u001b[0m\u001b[0;34m)\u001b[0m\u001b[0;34m\u001b[0m\u001b[0;34m\u001b[0m\u001b[0m\n\u001b[1;32m      4\u001b[0m \u001b[0;32mfor\u001b[0m \u001b[0mi\u001b[0m \u001b[0;32min\u001b[0m \u001b[0mtimestep_list\u001b[0m\u001b[0;34m:\u001b[0m\u001b[0;34m\u001b[0m\u001b[0;34m\u001b[0m\u001b[0m\n\u001b[1;32m      5\u001b[0m     \u001b[0mfig\u001b[0m\u001b[0;34m,\u001b[0m \u001b[0maxs\u001b[0m \u001b[0;34m=\u001b[0m \u001b[0mplt\u001b[0m\u001b[0;34m.\u001b[0m\u001b[0msubplots\u001b[0m\u001b[0;34m(\u001b[0m\u001b[0;36m1\u001b[0m\u001b[0;34m,\u001b[0m \u001b[0;36m3\u001b[0m\u001b[0;34m)\u001b[0m\u001b[0;34m\u001b[0m\u001b[0;34m\u001b[0m\u001b[0m\n",
      "\u001b[0;31mFileNotFoundError\u001b[0m: [Errno 2] No such file or directory: '/tmp/test_mega/proto_env-sprite_alg-DDPG_herrfaab_1_4_3_1_1_layer-(512, 512, 512)_seed111_tb-p3M400st10_ag_cu-minkde_eexpl0.1_first-True_dg_sc1.0_alpha--1.0'"
     ]
    }
   ],
   "source": [
    "ebase_path = \"/tmp/test_mega/proto_env-sprite_alg-DDPG_herrfaab_1_4_3_1_1_layer-(512, 512, 512)_seed111_tb-p3M400st10_ag_cu-minkde_eexpl0.1_first-True_dg_sc1.0_alpha--1.0\"\n",
    "timestep_list = [folder for folder in os.listdir(ebase_path) if folder.isdigit()]\n",
    "timestep_list.sort(key=float)\n",
    "for i in timestep_list:\n",
    "    fig, axs = plt.subplots(1, 3)\n",
    "    fig.set_figwidth(15)\n",
    "    axs[0].set_xlim(0,1)\n",
    "    axs[0].set_ylim(0,1)\n",
    "    axs[1].set_xlim(0,1)\n",
    "    axs[1].set_ylim(0,1)\n",
    "    axs[2].set_xlim(0,1)\n",
    "    axs[2].set_ylim(0,1)\n",
    "    \n",
    "    with cbook.get_sample_data(ebase_path + '/' + i+ '/last_bgs/tensors.tsv') as file:\n",
    "        array = np.loadtxt(file)\n",
    "        \n",
    "        axs[0].scatter(array[:,0],array[:,1])\n",
    "        axs[0].scatter(array[:,2],array[:,3])\n",
    "        axs[0].scatter(array[:,4],array[:,5])\n",
    "    with cbook.get_sample_data(ebase_path + '/' + i+ '/last_ags/tensors.tsv') as file:\n",
    "        array = np.loadtxt(file)\n",
    "        axs[1].scatter(array[:,0],array[:,1], alpha=0.4, s= 2)\n",
    "        axs[1].scatter(array[:,2],array[:,3], alpha=0.4, s= 2)\n",
    "        axs[1].scatter(array[:,4],array[:,5], alpha=0.4, s= 2)\n",
    "        \n",
    "\n",
    "    with cbook.get_sample_data(ebase_path + '/' + i+ '/rand_ags/tensors.tsv') as file:\n",
    "        array = np.loadtxt(file)\n",
    "        axs[2].scatter(array[:,0],array[:,1], alpha=0.4, s= 2)\n",
    "        axs[2].scatter(array[:,2],array[:,3], alpha=0.4, s= 2)\n",
    "        axs[2].scatter(array[:,4],array[:,5], alpha=0.4, s= 2)\n",
    "\n",
    "    print(i)\n",
    "    plt.show()"
   ]
  },
  {
   "cell_type": "code",
   "execution_count": 22,
   "metadata": {},
   "outputs": [
    {
     "ename": "FileNotFoundError",
     "evalue": "[Errno 2] No such file or directory: '/tmp/test_mega/proto_env-sprite_alg-DDPG_herrfaab_1_0_2_4_0_layer-(512, 512, 512)_seed145_tb-a_ag_cu-minkde_eexpl0.1_first-False_dg_sc1.0_alpha--1.0'",
     "output_type": "error",
     "traceback": [
      "\u001b[0;31m---------------------------------------------------------------------------\u001b[0m",
      "\u001b[0;31mFileNotFoundError\u001b[0m                         Traceback (most recent call last)",
      "\u001b[0;32m/var/folders/k_/yll5wg050mn0xdv_pg1l99zm0000gn/T/ipykernel_18702/3414416280.py\u001b[0m in \u001b[0;36m<module>\u001b[0;34m\u001b[0m\n\u001b[1;32m      1\u001b[0m \u001b[0mfbase_path\u001b[0m \u001b[0;34m=\u001b[0m \u001b[0;34m\"/tmp/test_mega/proto_env-sprite_alg-DDPG_herrfaab_1_0_2_4_0_layer-(512, 512, 512)_seed145_tb-a_ag_cu-minkde_eexpl0.1_first-False_dg_sc1.0_alpha--1.0\"\u001b[0m\u001b[0;34m\u001b[0m\u001b[0;34m\u001b[0m\u001b[0m\n\u001b[0;32m----> 2\u001b[0;31m \u001b[0mtimestep_list\u001b[0m \u001b[0;34m=\u001b[0m \u001b[0;34m[\u001b[0m\u001b[0mfolder\u001b[0m \u001b[0;32mfor\u001b[0m \u001b[0mfolder\u001b[0m \u001b[0;32min\u001b[0m \u001b[0mos\u001b[0m\u001b[0;34m.\u001b[0m\u001b[0mlistdir\u001b[0m\u001b[0;34m(\u001b[0m\u001b[0mfbase_path\u001b[0m\u001b[0;34m)\u001b[0m \u001b[0;32mif\u001b[0m \u001b[0mfolder\u001b[0m\u001b[0;34m.\u001b[0m\u001b[0misdigit\u001b[0m\u001b[0;34m(\u001b[0m\u001b[0;34m)\u001b[0m\u001b[0;34m]\u001b[0m\u001b[0;34m\u001b[0m\u001b[0;34m\u001b[0m\u001b[0m\n\u001b[0m\u001b[1;32m      3\u001b[0m \u001b[0mtimestep_list\u001b[0m\u001b[0;34m.\u001b[0m\u001b[0msort\u001b[0m\u001b[0;34m(\u001b[0m\u001b[0mkey\u001b[0m\u001b[0;34m=\u001b[0m\u001b[0mfloat\u001b[0m\u001b[0;34m)\u001b[0m\u001b[0;34m\u001b[0m\u001b[0;34m\u001b[0m\u001b[0m\n\u001b[1;32m      4\u001b[0m \u001b[0;32mfor\u001b[0m \u001b[0mi\u001b[0m \u001b[0;32min\u001b[0m \u001b[0mtimestep_list\u001b[0m\u001b[0;34m:\u001b[0m\u001b[0;34m\u001b[0m\u001b[0;34m\u001b[0m\u001b[0m\n\u001b[1;32m      5\u001b[0m     \u001b[0mfig\u001b[0m\u001b[0;34m,\u001b[0m \u001b[0maxs\u001b[0m \u001b[0;34m=\u001b[0m \u001b[0mplt\u001b[0m\u001b[0;34m.\u001b[0m\u001b[0msubplots\u001b[0m\u001b[0;34m(\u001b[0m\u001b[0;36m1\u001b[0m\u001b[0;34m,\u001b[0m \u001b[0;36m3\u001b[0m\u001b[0;34m)\u001b[0m\u001b[0;34m\u001b[0m\u001b[0;34m\u001b[0m\u001b[0m\n",
      "\u001b[0;31mFileNotFoundError\u001b[0m: [Errno 2] No such file or directory: '/tmp/test_mega/proto_env-sprite_alg-DDPG_herrfaab_1_0_2_4_0_layer-(512, 512, 512)_seed145_tb-a_ag_cu-minkde_eexpl0.1_first-False_dg_sc1.0_alpha--1.0'"
     ]
    }
   ],
   "source": [
    "fbase_path = \"/tmp/test_mega/proto_env-sprite_alg-DDPG_herrfaab_1_0_2_4_0_layer-(512, 512, 512)_seed145_tb-a_ag_cu-minkde_eexpl0.1_first-False_dg_sc1.0_alpha--1.0\"\n",
    "timestep_list = [folder for folder in os.listdir(fbase_path) if folder.isdigit()]\n",
    "timestep_list.sort(key=float)\n",
    "for i in timestep_list:\n",
    "    fig, axs = plt.subplots(1, 3)\n",
    "    fig.set_figwidth(15)\n",
    "    axs[0].set_xlim(0,1)\n",
    "    axs[0].set_ylim(0,1)\n",
    "    axs[1].set_xlim(0,1)\n",
    "    axs[1].set_ylim(0,1)\n",
    "    axs[2].set_xlim(0,1)\n",
    "    axs[2].set_ylim(0,1)\n",
    "    \n",
    "    with cbook.get_sample_data(fbase_path + '/' + i+ '/last_bgs/tensors.tsv') as file:\n",
    "        array = np.loadtxt(file)\n",
    "        \n",
    "        axs[0].scatter(array[:,0],array[:,1])\n",
    "        axs[0].scatter(array[:,2],array[:,3])\n",
    "        axs[0].scatter(array[:,4],array[:,5])\n",
    "    with cbook.get_sample_data(fbase_path + '/' + i+ '/last_ags/tensors.tsv') as file:\n",
    "        array = np.loadtxt(file)\n",
    "        axs[1].scatter(array[:,0],array[:,1], alpha=0.4, s= 2)\n",
    "        axs[1].scatter(array[:,2],array[:,3], alpha=0.4, s= 2)\n",
    "        axs[1].scatter(array[:,4],array[:,5], alpha=0.4, s= 2)\n",
    "        \n",
    "\n",
    "    with cbook.get_sample_data(fbase_path + '/' + i+ '/rand_ags/tensors.tsv') as file:\n",
    "        array = np.loadtxt(file)\n",
    "        axs[2].scatter(array[:,0],array[:,1], alpha=0.4, s= 2)\n",
    "        axs[2].scatter(array[:,2],array[:,3], alpha=0.4, s= 2)\n",
    "        axs[2].scatter(array[:,4],array[:,5], alpha=0.4, s= 2)\n",
    "\n",
    "    print(i)\n",
    "    plt.show()"
   ]
  },
  {
   "cell_type": "code",
   "execution_count": 23,
   "metadata": {},
   "outputs": [
    {
     "name": "stdout",
     "output_type": "stream",
     "text": [
      "(3, 4, 4)\n",
      "[[[ 0  1  2  3]\n",
      "  [ 4  5  6  7]\n",
      "  [ 8  9 10 11]\n",
      "  [12 13 14 15]]\n",
      "\n",
      " [[16 17 18 19]\n",
      "  [20 21 22 23]\n",
      "  [24 25 26 27]\n",
      "  [28 29 30 31]]\n",
      "\n",
      " [[32 33 34 35]\n",
      "  [36 37 38 39]\n",
      "  [40 41 42 43]\n",
      "  [44 45 46 47]]]\n",
      "[[[12 13 14 15]\n",
      "  [ 8  9 10 11]\n",
      "  [ 0  1  2  3]\n",
      "  [ 4  5  6  7]]\n",
      "\n",
      " [[16 17 18 19]\n",
      "  [20 21 22 23]\n",
      "  [24 25 26 27]\n",
      "  [28 29 30 31]]\n",
      "\n",
      " [[32 33 34 35]\n",
      "  [36 37 38 39]\n",
      "  [40 41 42 43]\n",
      "  [44 45 46 47]]]\n",
      "[[26 27]\n",
      " [30 31]]\n",
      "[0 2 1]\n"
     ]
    }
   ],
   "source": [
    "b= np.arange(48)\n",
    "a = np.copy(b)\n",
    "a= a.reshape(3,4,4)\n",
    "b= b.reshape(3,4,4)\n",
    "print(b.shape)\n",
    "print(a)\n",
    "a[0]= a[0][[3,2,0,1]]\n",
    "print(a)\n",
    "\n",
    "rng = np.random.default_rng()\n",
    "print(a[1,a.shape[1]//2:,2:4])\n",
    "rng.shuffle(a[1,a.shape[1]//2:,2:4])\n",
    "a.shape[0]\n",
    "c =np.concatenate((a,b), axis=1)\n",
    "c[:, :, 0:2]=0\n",
    "c[:, :, 0:2]= c[:, :, 1:3]\n",
    "f=np.arange(3)\n",
    "f=f[[0,2,1]]\n",
    "print(f)"
   ]
  },
  {
   "cell_type": "code",
   "execution_count": 24,
   "metadata": {},
   "outputs": [
    {
     "name": "stdout",
     "output_type": "stream",
     "text": [
      "False\n",
      "[[ 0  1  2  3]\n",
      " [12 13  6  7]\n",
      " [ 8  9 10 11]\n",
      " [ 4  5 14 15]]\n",
      "-------------\n"
     ]
    }
   ],
   "source": [
    "b= np.arange(48)\n",
    "a = np.copy(b)\n",
    "\n",
    "a= a.reshape(3,4,4)\n",
    "b= b.reshape(3,4,4)\n",
    "print(a[1][1] is b[1][1])\n",
    "rng = np.random.default_rng()\n",
    "rng.shuffle(a[0][:,0:2])\n",
    "print(a[0])\n",
    "\n",
    "\n",
    "#print(a[:, :, 0:2])\n",
    "#for i in range(a.shape[0]):\n",
    "#    rng.shuffle(a[i][:,0:2])\n",
    "\n",
    "#print(a)\n",
    "\n",
    "\n",
    "#mesh = np.array(np.meshgrid(a[1], b[0]))\n",
    "#combinations = mesh.T.reshape(-1, 4)\n",
    "#print(combinations)\n",
    "print('-------------')\n",
    "\n",
    "#c =np.concatenate((a,b), axis=1)\n",
    "\n",
    "#d= c[:,:5,:]\n",
    "\n",
    "#d = np.tile(d, (1,2,1))\n",
    "#print(d)\n",
    "#index = np.argsort(c[:,:,1])\n",
    "#print(index)\n",
    "#c[1] = c[1][index[1]]\n"
   ]
  },
  {
   "cell_type": "code",
   "execution_count": 11,
   "metadata": {},
   "outputs": [
    {
     "data": {
      "text/plain": [
       "0.954434002924965"
      ]
     },
     "execution_count": 11,
     "metadata": {},
     "output_type": "execute_result"
    }
   ],
   "source": [
    "from scipy.stats import entropy\n",
    "entropy([0.6,1], base=2)"
   ]
  },
  {
   "cell_type": "code",
   "execution_count": 775,
   "metadata": {},
   "outputs": [
    {
     "data": {
      "text/plain": [
       "1.7128876215181603"
      ]
     },
     "execution_count": 775,
     "metadata": {},
     "output_type": "execute_result"
    }
   ],
   "source": [
    "entropy([7,2,2,9], base=2)"
   ]
  },
  {
   "cell_type": "code",
   "execution_count": 774,
   "metadata": {},
   "outputs": [
    {
     "data": {
      "text/plain": [
       "1.719553828322125"
      ]
     },
     "execution_count": 774,
     "metadata": {},
     "output_type": "execute_result"
    }
   ],
   "source": [
    "entropy([6,2,2,9], base=2)"
   ]
  },
  {
   "cell_type": "code",
   "execution_count": 606,
   "metadata": {},
   "outputs": [
    {
     "data": {
      "text/plain": [
       "1.360964047443681"
      ]
     },
     "execution_count": 606,
     "metadata": {},
     "output_type": "execute_result"
    }
   ],
   "source": [
    "entropy([0.5,0.4,0.1,0], base=2)"
   ]
  },
  {
   "cell_type": "code",
   "execution_count": 922,
   "metadata": {},
   "outputs": [
    {
     "data": {
      "text/plain": [
       "array([0, 2, 3, 1])"
      ]
     },
     "execution_count": 922,
     "metadata": {},
     "output_type": "execute_result"
    }
   ],
   "source": [
    "a= np.array([1,7,4,5])\n",
    "np.argsort(a)"
   ]
  },
  {
   "cell_type": "code",
   "execution_count": 1006,
   "metadata": {},
   "outputs": [
    {
     "data": {
      "text/plain": [
       "False"
      ]
     },
     "execution_count": 1006,
     "metadata": {},
     "output_type": "execute_result"
    }
   ],
   "source": [
    "np.random.randint(2)==0"
   ]
  },
  {
   "cell_type": "code",
   "execution_count": 1056,
   "metadata": {},
   "outputs": [
    {
     "name": "stdout",
     "output_type": "stream",
     "text": [
      "[0, 0, 0, 0, 0, 0, 0, 0, 0, 0, 0, 0, 0, 0, 0, 0, 1, 1, 1, 1, 1, 1, 1, 1, 1, 1, 1, 1, 1, 1, 1, 1, 2, 2, 2, 2, 2, 2, 2, 2, 2, 2, 2, 2, 2, 2, 2, 2, 3, 3, 3, 3, 3, 3, 3, 3, 3, 3, 3, 3, 3, 3, 3, 3]\n",
      "[0, 0, 0, 0, 1, 1, 1, 1, 2, 2, 2, 2, 3, 3, 3, 3, 0, 0, 0, 0, 1, 1, 1, 1, 2, 2, 2, 2, 3, 3, 3, 3, 0, 0, 0, 0, 1, 1, 1, 1, 2, 2, 2, 2, 3, 3, 3, 3, 0, 0, 0, 0, 1, 1, 1, 1, 2, 2, 2, 2, 3, 3, 3, 3]\n",
      "[0, 1, 2, 3, 0, 1, 2, 3, 0, 1, 2, 3, 0, 1, 2, 3, 0, 1, 2, 3, 0, 1, 2, 3, 0, 1, 2, 3, 0, 1, 2, 3, 0, 1, 2, 3, 0, 1, 2, 3, 0, 1, 2, 3, 0, 1, 2, 3, 0, 1, 2, 3, 0, 1, 2, 3, 0, 1, 2, 3, 0, 1, 2, 3]\n"
     ]
    }
   ],
   "source": [
    "\n",
    "top = 4\n",
    "fidx = [[i] * (top**2) for i in range(top)]\n",
    "fidx = [i for i in range(top) for _ in range(top**2)]\n",
    "print(fidx)\n",
    "sidx = [i for i in range(top) for _ in range(top)]*top\n",
    "print(sidx)\n",
    "tidx = [i for i in range(top)] * (top**2)\n",
    "print(tidx)"
   ]
  },
  {
   "cell_type": "code",
   "execution_count": 1062,
   "metadata": {},
   "outputs": [
    {
     "ename": "ValueError",
     "evalue": "could not broadcast input array from shape (64,4) into shape (4,4)",
     "output_type": "error",
     "traceback": [
      "\u001b[0;31m---------------------------------------------------------------------------\u001b[0m",
      "\u001b[0;31mValueError\u001b[0m                                Traceback (most recent call last)",
      "\u001b[0;32m<ipython-input-1062-c05393045c92>\u001b[0m in \u001b[0;36m<module>\u001b[0;34m\u001b[0m\n\u001b[1;32m      2\u001b[0m \u001b[0ma\u001b[0m \u001b[0;34m=\u001b[0m \u001b[0mnp\u001b[0m\u001b[0;34m.\u001b[0m\u001b[0mcopy\u001b[0m\u001b[0;34m(\u001b[0m\u001b[0mb\u001b[0m\u001b[0;34m)\u001b[0m\u001b[0;34m\u001b[0m\u001b[0;34m\u001b[0m\u001b[0m\n\u001b[1;32m      3\u001b[0m \u001b[0ma\u001b[0m\u001b[0;34m=\u001b[0m \u001b[0ma\u001b[0m\u001b[0;34m.\u001b[0m\u001b[0mreshape\u001b[0m\u001b[0;34m(\u001b[0m\u001b[0;36m3\u001b[0m\u001b[0;34m,\u001b[0m\u001b[0;36m4\u001b[0m\u001b[0;34m,\u001b[0m\u001b[0;36m4\u001b[0m\u001b[0;34m)\u001b[0m\u001b[0;34m\u001b[0m\u001b[0;34m\u001b[0m\u001b[0m\n\u001b[0;32m----> 4\u001b[0;31m \u001b[0ma\u001b[0m\u001b[0;34m[\u001b[0m\u001b[0;36m0\u001b[0m\u001b[0;34m]\u001b[0m\u001b[0;34m=\u001b[0m \u001b[0ma\u001b[0m\u001b[0;34m[\u001b[0m\u001b[0;36m0\u001b[0m\u001b[0;34m]\u001b[0m\u001b[0;34m[\u001b[0m\u001b[0;34m[\u001b[0m\u001b[0mi\u001b[0m \u001b[0;32mfor\u001b[0m \u001b[0mi\u001b[0m \u001b[0;32min\u001b[0m \u001b[0mrange\u001b[0m\u001b[0;34m(\u001b[0m\u001b[0mtop\u001b[0m\u001b[0;34m)\u001b[0m \u001b[0;32mfor\u001b[0m \u001b[0m_\u001b[0m \u001b[0;32min\u001b[0m \u001b[0mrange\u001b[0m\u001b[0;34m(\u001b[0m\u001b[0mtop\u001b[0m\u001b[0;34m**\u001b[0m\u001b[0;36m2\u001b[0m\u001b[0;34m)\u001b[0m\u001b[0;34m]\u001b[0m\u001b[0;34m]\u001b[0m\u001b[0;34m\u001b[0m\u001b[0;34m\u001b[0m\u001b[0m\n\u001b[0m\u001b[1;32m      5\u001b[0m \u001b[0mprint\u001b[0m\u001b[0;34m(\u001b[0m\u001b[0ma\u001b[0m\u001b[0;34m)\u001b[0m\u001b[0;34m\u001b[0m\u001b[0;34m\u001b[0m\u001b[0m\n",
      "\u001b[0;31mValueError\u001b[0m: could not broadcast input array from shape (64,4) into shape (4,4)"
     ]
    }
   ],
   "source": [
    "b= np.arange(48)\n",
    "a = np.copy(b)\n",
    "a= a.reshape(3,4,4)\n",
    "a[0]= a[0][[i for i in range(top) for _ in range(top**2)]]\n",
    "print(a)"
   ]
  },
  {
   "cell_type": "code",
   "execution_count": 5,
   "metadata": {},
   "outputs": [
    {
     "name": "stdout",
     "output_type": "stream",
     "text": [
      "[[[ 0  1  2  3  4  5  6  7]\n",
      "  [ 0  1  2  3  4  5  6  7]\n",
      "  [ 0  1  2  3  4  5  6  7]\n",
      "  [ 0  1  2  3  4  5  6  7]\n",
      "  [ 0  1  2  3  4  5  6  7]\n",
      "  [ 0  1  2  3  4  5  6  7]\n",
      "  [ 0  1  2  3  4  5  6  7]\n",
      "  [ 0  1  2  3  4  5  6  7]\n",
      "  [ 0  1  2  3  4  5  6  7]\n",
      "  [ 0  1  2  3  4  5  6  7]]\n",
      "\n",
      " [[ 8  9 10 11 12 13 14 15]\n",
      "  [ 8  9 10 11 12 13 14 15]\n",
      "  [ 8  9 10 11 12 13 14 15]\n",
      "  [ 8  9 10 11 12 13 14 15]\n",
      "  [ 8  9 10 11 12 13 14 15]\n",
      "  [ 8  9 10 11 12 13 14 15]\n",
      "  [ 8  9 10 11 12 13 14 15]\n",
      "  [ 8  9 10 11 12 13 14 15]\n",
      "  [ 8  9 10 11 12 13 14 15]\n",
      "  [ 8  9 10 11 12 13 14 15]]\n",
      "\n",
      " [[16 17 18 19 20 21 22 23]\n",
      "  [16 17 18 19 20 21 22 23]\n",
      "  [16 17 18 19 20 21 22 23]\n",
      "  [16 17 18 19 20 21 22 23]\n",
      "  [16 17 18 19 20 21 22 23]\n",
      "  [16 17 18 19 20 21 22 23]\n",
      "  [16 17 18 19 20 21 22 23]\n",
      "  [16 17 18 19 20 21 22 23]\n",
      "  [16 17 18 19 20 21 22 23]\n",
      "  [16 17 18 19 20 21 22 23]]]\n",
      "[[0 1 2 3 4 5 6 7]\n",
      " [0 1 2 3 4 5 6 7]\n",
      " [0 1 2 3 4 5 6 7]\n",
      " [0 1 2 3 4 5 6 7]\n",
      " [0 1 2 3 4 5 6 7]\n",
      " [0 1 2 3 4 5 6 7]\n",
      " [0 1 2 3 4 5 6 7]\n",
      " [0 1 2 3 4 5 6 7]\n",
      " [0 1 2 3 4 5 6 7]\n",
      " [0 1 2 3 4 5 6 7]\n",
      " [0 1 2 3 4 5 6 7]\n",
      " [0 1 2 3 4 5 6 7]\n",
      " [0 1 2 3 4 5 6 7]\n",
      " [0 1 2 3 4 5 6 7]\n",
      " [0 1 2 3 4 5 6 7]\n",
      " [0 1 2 3 4 5 6 7]\n",
      " [0 1 2 3 4 5 6 7]\n",
      " [0 1 2 3 4 5 6 7]\n",
      " [0 1 2 3 4 5 6 7]\n",
      " [0 1 2 3 4 5 6 7]]\n"
     ]
    }
   ],
   "source": [
    "a = np.arange(24)\n",
    "a = a.reshape(3,8)\n",
    "observed = a\n",
    "num_goals = 10\n",
    "new = np.arange(240)\n",
    "new = new.reshape(3,10,8)\n",
    "for i in range(3):\n",
    "    new[i] = np.tile(observed[i], ( num_goals,1))\n",
    "print(new)\n",
    "a = new[0]\n",
    "a = np.tile(a, (2,1))\n",
    "print(a)"
   ]
  },
  {
   "cell_type": "code",
   "execution_count": 3,
   "metadata": {},
   "outputs": [],
   "source": [
    "import pandas as pd\n",
    "import csv\n"
   ]
  },
  {
   "cell_type": "code",
   "execution_count": 45,
   "metadata": {},
   "outputs": [
    {
     "name": "stdout",
     "output_type": "stream",
     "text": [
      "616\n",
      "0\n",
      "1001\n",
      "385\n",
      "385\n"
     ]
    },
    {
     "data": {
      "image/png": "[encoded data removed]",
      "text/plain": [
       "<Figure size 432x288 with 1 Axes>"
      ]
     },
     "metadata": {
      "needs_background": "light"
     },
     "output_type": "display_data"
    }
   ],
   "source": [
    "\n",
    "\n",
    "x = []\n",
    "y = []\n",
    "  \n",
    "with open('/Users/e/plotstatic.csv','r') as csvfile:\n",
    "    plots = csv.reader(csvfile, delimiter = ',')\n",
    "    i=0\n",
    "    for row in plots:\n",
    "        i+=1\n",
    "        \n",
    "        if i >= 1000:\n",
    "            x.append(float(row[0]))\n",
    "            y.append(float(row[2].strip(\"[]\")))\n",
    "correct = 0\n",
    "actualcorrect = 0\n",
    "incorrect = 0\n",
    "total = 0\n",
    "fp = 0\n",
    "fn = 0\n",
    "bothyes = 0 \n",
    "bothno= 0\n",
    "for i in range(len(x)):\n",
    "    if True:  \n",
    "        # i>=len(x)//2:\n",
    "        total += 1\n",
    "        if x[i]>0.5 and y[i]>0.5 :\n",
    "            correct +=1\n",
    "            bothyes +=1\n",
    "        if x[i]>0.5 and y[i]<0.5 :\n",
    "            fn +=1\n",
    "\n",
    "        if x[i]<0.5 and y[i]<0.5 :\n",
    "            correct += 1\n",
    "            bothno += 1\n",
    "        if x[i]<0.5 and y[i]>0.5 :\n",
    "            fp +=1\n",
    "        if x[i]>0.5 :\n",
    "            actualcorrect +=1\n",
    "print(fp)\n",
    "print(fn)\n",
    "print(total)\n",
    "print(correct)\n",
    "print(actualcorrect)\n",
    "plt.scatter(x, y, color = 'g', alpha=0.1)\n",
    "plt.xlabel('actual success')\n",
    "plt.ylabel('predicted score')\n",
    "plt.title('scatter of actual success vs predict score')\n",
    "plt.show()"
   ]
  },
  {
   "cell_type": "code",
   "execution_count": null,
   "metadata": {},
   "outputs": [],
   "source": []
  }
 ],
 "metadata": {
  "kernelspec": {
   "display_name": "Python 3",
   "language": "python",
   "name": "python3"
  },
  "language_info": {
   "codemirror_mode": {
    "name": "ipython",
    "version": 3
   },
   "file_extension": ".py",
   "mimetype": "text/x-python",
   "name": "python",
   "nbconvert_exporter": "python",
   "pygments_lexer": "ipython3",
   "version": "3.8.9"
  }
 },
 "nbformat": 4,
 "nbformat_minor": 4
}
